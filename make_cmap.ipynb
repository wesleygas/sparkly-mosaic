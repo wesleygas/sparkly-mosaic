{
 "cells": [
  {
   "cell_type": "code",
   "execution_count": 78,
   "metadata": {},
   "outputs": [
    {
     "data": {
      "text/plain": [
       "['colormap.joblib']"
      ]
     },
     "execution_count": 78,
     "metadata": {},
     "output_type": "execute_result"
    }
   ],
   "source": [
    "import os\n",
    "import numpy as np\n",
    "import cv2\n",
    "from joblib import dump, Parallel, delayed\n",
    "\n",
    "def get_image_paths(maxthings):\n",
    "    imagepaths = []\n",
    "    mid_path = os.path.join(os.getcwd(),\"images\")\n",
    "    if(maxthings):\n",
    "        for img_name in os.listdir(mid_path)[:maxthings]:\n",
    "            imagepaths.append(os.path.join(mid_path,img_name))\n",
    "    else:\n",
    "        for img_name in os.listdir(mid_path):\n",
    "            imagepaths.append(os.path.join(mid_path,img_name))\n",
    "        \n",
    "    return imagepaths\n",
    "\n",
    "def getMeans(imgp):\n",
    "    img = cv2.imread(imgp)\n",
    "    halfX = len(img[0])//2\n",
    "    halfY = len(img)//2\n",
    "    q1 = np.mean(img[:halfY][:,halfX:,:], axis=(0,1))\n",
    "    q2 = np.mean(img[:halfY][:,:halfX,:], axis=(0,1))\n",
    "    q3 = np.mean(img[halfY:][:,:halfX,:], axis=(0,1))\n",
    "    q4 = np.mean(img[halfY:][:,halfX:,:], axis=(0,1))\n",
    "    means = [q1,q2,q3,q4]\n",
    "    return [[np.mean(means, axis=0),means],imgp]\n",
    "\n",
    "c_map = Parallel(n_jobs=3)(delayed(getMeans)(imgp) for imgp in get_image_paths(None))\n",
    "dump(c_map,\"colormap.joblib\")"
   ]
  },
  {
   "cell_type": "code",
   "execution_count": null,
   "metadata": {},
   "outputs": [],
   "source": []
  }
 ],
 "metadata": {
  "kernelspec": {
   "display_name": "Python 3",
   "language": "python",
   "name": "python3"
  },
  "language_info": {
   "codemirror_mode": {
    "name": "ipython",
    "version": 3
   },
   "file_extension": ".py",
   "mimetype": "text/x-python",
   "name": "python",
   "nbconvert_exporter": "python",
   "pygments_lexer": "ipython3",
   "version": "3.6.8"
  }
 },
 "nbformat": 4,
 "nbformat_minor": 4
}
